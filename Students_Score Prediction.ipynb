{
 "cells": [
  {
   "cell_type": "markdown",
   "id": "final-peeing",
   "metadata": {},
   "source": [
    "### <font color = blue> Task 1:THE SPARKS FOUNDATION May'21 </font>"
   ]
  },
  {
   "cell_type": "markdown",
   "id": "lasting-vulnerability",
   "metadata": {},
   "source": [
    "### PREDICTION USING SUPERVISED ML"
   ]
  },
  {
   "cell_type": "markdown",
   "id": "expanded-edition",
   "metadata": {},
   "source": [
    "#### Task Description:"
   ]
  },
  {
   "cell_type": "markdown",
   "id": "spanish-helen",
   "metadata": {},
   "source": [
    "This is a Simple Linear Regression Problem where we have to predict the **Percentage of students** based on the numbers of their study hours"
   ]
  },
  {
   "cell_type": "markdown",
   "id": "sunrise-dover",
   "metadata": {},
   "source": [
    "#### Objective:"
   ]
  },
  {
   "cell_type": "markdown",
   "id": "breeding-relief",
   "metadata": {},
   "source": [
    "We have to Predict the **score** of a student if he/she devotes 9.25hours/day for studies."
   ]
  },
  {
   "cell_type": "markdown",
   "id": "empirical-jackson",
   "metadata": {},
   "source": [
    "#### <font color=green> **DONE BY- ZUBAIR SHEIKH** </font>"
   ]
  },
  {
   "cell_type": "markdown",
   "id": "lonely-activation",
   "metadata": {},
   "source": [
    "**The Steps we will cover in this task as follows:**\n",
    "1. Reading and Understanding the data.\n",
    "2. Visualising Data for better insights.\n",
    "3. Preparing the data for modelling (Train-Test Split, Rescaling)\n",
    "4. Training the model.\n",
    "5. Prediction and Evaluation on Test Data Set."
   ]
  },
  {
   "cell_type": "markdown",
   "id": "unique-certification",
   "metadata": {},
   "source": [
    "**THe Dataset Contains Following Variables:**\n",
    "   - **HOURS** - No. of hours of study by students.\n",
    "   - **SCORES** - Marks obtained by a students."
   ]
  },
  {
   "cell_type": "markdown",
   "id": "level-batch",
   "metadata": {},
   "source": [
    "### <font color=blue> 1.Reading and Understanding the Data </font>"
   ]
  },
  {
   "cell_type": "markdown",
   "id": "faced-courtesy",
   "metadata": {},
   "source": [
    "**Importing Warnings & important Libraries to read students dataset.**"
   ]
  },
  {
   "cell_type": "code",
   "execution_count": 1,
   "id": "loose-nursing",
   "metadata": {},
   "outputs": [],
   "source": [
    "### Import warnings\n",
    "\n",
    "import warnings\n",
    "warnings.filterwarnings('ignore')"
   ]
  },
  {
   "cell_type": "code",
   "execution_count": 2,
   "id": "decreased-prison",
   "metadata": {},
   "outputs": [],
   "source": [
    "### Importing Important Libraries\n",
    "\n",
    "import numpy as np\n",
    "import pandas as pd"
   ]
  },
  {
   "cell_type": "code",
   "execution_count": 3,
   "id": "grateful-rehabilitation",
   "metadata": {},
   "outputs": [
    {
     "data": {
      "text/html": [
       "<div>\n",
       "<style scoped>\n",
       "    .dataframe tbody tr th:only-of-type {\n",
       "        vertical-align: middle;\n",
       "    }\n",
       "\n",
       "    .dataframe tbody tr th {\n",
       "        vertical-align: top;\n",
       "    }\n",
       "\n",
       "    .dataframe thead th {\n",
       "        text-align: right;\n",
       "    }\n",
       "</style>\n",
       "<table border=\"1\" class=\"dataframe\">\n",
       "  <thead>\n",
       "    <tr style=\"text-align: right;\">\n",
       "      <th></th>\n",
       "      <th>Hours</th>\n",
       "      <th>Scores</th>\n",
       "    </tr>\n",
       "  </thead>\n",
       "  <tbody>\n",
       "    <tr>\n",
       "      <th>0</th>\n",
       "      <td>2.5</td>\n",
       "      <td>21</td>\n",
       "    </tr>\n",
       "    <tr>\n",
       "      <th>1</th>\n",
       "      <td>5.1</td>\n",
       "      <td>47</td>\n",
       "    </tr>\n",
       "    <tr>\n",
       "      <th>2</th>\n",
       "      <td>3.2</td>\n",
       "      <td>27</td>\n",
       "    </tr>\n",
       "    <tr>\n",
       "      <th>3</th>\n",
       "      <td>8.5</td>\n",
       "      <td>75</td>\n",
       "    </tr>\n",
       "    <tr>\n",
       "      <th>4</th>\n",
       "      <td>3.5</td>\n",
       "      <td>30</td>\n",
       "    </tr>\n",
       "  </tbody>\n",
       "</table>\n",
       "</div>"
      ],
      "text/plain": [
       "   Hours  Scores\n",
       "0    2.5      21\n",
       "1    5.1      47\n",
       "2    3.2      27\n",
       "3    8.5      75\n",
       "4    3.5      30"
      ]
     },
     "execution_count": 3,
     "metadata": {},
     "output_type": "execute_result"
    }
   ],
   "source": [
    "### Reading Dataset\n",
    "\n",
    "scores = pd.read_csv(\"student_scores - student_scores.csv\")\n",
    "scores.head()"
   ]
  },
  {
   "cell_type": "code",
   "execution_count": 4,
   "id": "productive-threshold",
   "metadata": {},
   "outputs": [
    {
     "data": {
      "text/plain": [
       "(25, 2)"
      ]
     },
     "execution_count": 4,
     "metadata": {},
     "output_type": "execute_result"
    }
   ],
   "source": [
    "### Checking Data size\n",
    "\n",
    "scores.shape"
   ]
  },
  {
   "cell_type": "code",
   "execution_count": 5,
   "id": "wicked-price",
   "metadata": {},
   "outputs": [
    {
     "name": "stdout",
     "output_type": "stream",
     "text": [
      "<class 'pandas.core.frame.DataFrame'>\n",
      "RangeIndex: 25 entries, 0 to 24\n",
      "Data columns (total 2 columns):\n",
      " #   Column  Non-Null Count  Dtype  \n",
      "---  ------  --------------  -----  \n",
      " 0   Hours   25 non-null     float64\n",
      " 1   Scores  25 non-null     int64  \n",
      "dtypes: float64(1), int64(1)\n",
      "memory usage: 528.0 bytes\n"
     ]
    }
   ],
   "source": [
    "### Data Info\n",
    "\n",
    "scores.info()"
   ]
  },
  {
   "cell_type": "markdown",
   "id": "organized-level",
   "metadata": {},
   "source": [
    "**NOTE:** <font color=red> No Missing Values Present in Dataset. </font>"
   ]
  },
  {
   "cell_type": "markdown",
   "id": "rough-fault",
   "metadata": {},
   "source": [
    "### <font color=blue> 2. Data Visualization </font>"
   ]
  },
  {
   "cell_type": "code",
   "execution_count": 6,
   "id": "altered-barcelona",
   "metadata": {},
   "outputs": [],
   "source": [
    "### Importing Visualisation Libraries\n",
    "\n",
    "import matplotlib.pyplot as plt\n",
    "import seaborn as sns\n",
    "%matplotlib inline"
   ]
  },
  {
   "cell_type": "markdown",
   "id": "rapid-currency",
   "metadata": {},
   "source": [
    "**Here Dependent Variable is Scores, So we are going to keep it in Y-axis**"
   ]
  },
  {
   "cell_type": "code",
   "execution_count": 7,
   "id": "taken-material",
   "metadata": {},
   "outputs": [
    {
     "data": {
      "image/png": "[encoded data removed]",
      "text/plain": [
       "<Figure size 432x288 with 1 Axes>"
      ]
     },
     "metadata": {
      "needs_background": "light"
     },
     "output_type": "display_data"
    }
   ],
   "source": [
    "### Visualising the scores and hours variables\n",
    "\n",
    "sns.scatterplot(x='Hours', y='Scores', data=scores, color='red')\n",
    "plt.title('Students Study Hours Vs. Percentage', color='green', fontsize=20)\n",
    "plt.xlabel('Student Study Hours', fontsize=15)\n",
    "plt.ylabel('Percentage', fontsize=15)\n",
    "plt.legend(['Scores'])\n",
    "plt.show()"
   ]
  },
  {
   "cell_type": "markdown",
   "id": "continuing-bullet",
   "metadata": {},
   "source": [
    "**NOTE:** <font color=red> Scores of students are increasing with increase in number of study hours </font>"
   ]
  },
  {
   "cell_type": "code",
   "execution_count": 8,
   "id": "hindu-asian",
   "metadata": {},
   "outputs": [
    {
     "data": {
      "image/png": "[encoded data removed]",
      "text/plain": [
       "<Figure size 432x288 with 2 Axes>"
      ]
     },
     "metadata": {
      "needs_background": "light"
     },
     "output_type": "display_data"
    }
   ],
   "source": [
    "### Heatmap to check correlation between variables\n",
    "\n",
    "sns.heatmap(scores.corr(),annot=True,cmap='YlGn')\n",
    "plt.show()"
   ]
  },
  {
   "cell_type": "markdown",
   "id": "metric-exploration",
   "metadata": {},
   "source": [
    "**we get good correlation percentage between scores and hours variable**"
   ]
  },
  {
   "cell_type": "markdown",
   "id": "beneficial-parent",
   "metadata": {},
   "source": [
    "#### <font color = red> So, Yes we can consider a Simple Linear Regression Model. </font>"
   ]
  },
  {
   "cell_type": "markdown",
   "id": "worthy-washington",
   "metadata": {},
   "source": [
    "### <font color=blue> 3. Data Preparation for Model Building </font>"
   ]
  },
  {
   "cell_type": "code",
   "execution_count": 9,
   "id": "southern-pipeline",
   "metadata": {},
   "outputs": [
    {
     "data": {
      "text/html": [
       "<div>\n",
       "<style scoped>\n",
       "    .dataframe tbody tr th:only-of-type {\n",
       "        vertical-align: middle;\n",
       "    }\n",
       "\n",
       "    .dataframe tbody tr th {\n",
       "        vertical-align: top;\n",
       "    }\n",
       "\n",
       "    .dataframe thead th {\n",
       "        text-align: right;\n",
       "    }\n",
       "</style>\n",
       "<table border=\"1\" class=\"dataframe\">\n",
       "  <thead>\n",
       "    <tr style=\"text-align: right;\">\n",
       "      <th></th>\n",
       "      <th>Hours</th>\n",
       "      <th>Scores</th>\n",
       "    </tr>\n",
       "  </thead>\n",
       "  <tbody>\n",
       "    <tr>\n",
       "      <th>0</th>\n",
       "      <td>2.5</td>\n",
       "      <td>21</td>\n",
       "    </tr>\n",
       "    <tr>\n",
       "      <th>1</th>\n",
       "      <td>5.1</td>\n",
       "      <td>47</td>\n",
       "    </tr>\n",
       "    <tr>\n",
       "      <th>2</th>\n",
       "      <td>3.2</td>\n",
       "      <td>27</td>\n",
       "    </tr>\n",
       "    <tr>\n",
       "      <th>3</th>\n",
       "      <td>8.5</td>\n",
       "      <td>75</td>\n",
       "    </tr>\n",
       "    <tr>\n",
       "      <th>4</th>\n",
       "      <td>3.5</td>\n",
       "      <td>30</td>\n",
       "    </tr>\n",
       "  </tbody>\n",
       "</table>\n",
       "</div>"
      ],
      "text/plain": [
       "   Hours  Scores\n",
       "0    2.5      21\n",
       "1    5.1      47\n",
       "2    3.2      27\n",
       "3    8.5      75\n",
       "4    3.5      30"
      ]
     },
     "execution_count": 9,
     "metadata": {},
     "output_type": "execute_result"
    }
   ],
   "source": [
    "### Dataset Preview\n",
    "\n",
    "scores.head()"
   ]
  },
  {
   "cell_type": "markdown",
   "id": "muslim-device",
   "metadata": {},
   "source": [
    "#### <font color=blue> Train Test split: </font>"
   ]
  },
  {
   "cell_type": "code",
   "execution_count": 10,
   "id": "brutal-education",
   "metadata": {},
   "outputs": [],
   "source": [
    "### Importing libraries for train-test split\n",
    "\n",
    "import sklearn\n",
    "from sklearn.model_selection import train_test_split"
   ]
  },
  {
   "cell_type": "markdown",
   "id": "baking-coverage",
   "metadata": {},
   "source": [
    "**Assigning Feature Variable \"hours\" to variable X and response varaible \"Scores\" to variable y**"
   ]
  },
  {
   "cell_type": "code",
   "execution_count": 11,
   "id": "historic-zoning",
   "metadata": {},
   "outputs": [],
   "source": [
    "X = scores.iloc[:, :-1].values  \n",
    "y = scores.iloc[:, 1].values  "
   ]
  },
  {
   "cell_type": "code",
   "execution_count": 12,
   "id": "published-oliver",
   "metadata": {},
   "outputs": [],
   "source": [
    "### Creating Train-Test Split:\n",
    "\n",
    "X_train, X_test, y_train, y_test = train_test_split(X,y, train_size=0.70, random_state=100)"
   ]
  },
  {
   "cell_type": "code",
   "execution_count": 13,
   "id": "copyrighted-abuse",
   "metadata": {},
   "outputs": [
    {
     "data": {
      "text/plain": [
       "(17, 1)"
      ]
     },
     "execution_count": 13,
     "metadata": {},
     "output_type": "execute_result"
    }
   ],
   "source": [
    "### Let's now take a look at train dataset\n",
    "\n",
    "X_train.shape"
   ]
  },
  {
   "cell_type": "code",
   "execution_count": 14,
   "id": "atlantic-consortium",
   "metadata": {
    "scrolled": false
   },
   "outputs": [
    {
     "data": {
      "text/plain": [
       "(17,)"
      ]
     },
     "execution_count": 14,
     "metadata": {},
     "output_type": "execute_result"
    }
   ],
   "source": [
    "y_train.shape"
   ]
  },
  {
   "cell_type": "code",
   "execution_count": 15,
   "id": "improved-christian",
   "metadata": {},
   "outputs": [],
   "source": [
    "X_train = X_train.reshape(-1,1)\n",
    "X_test = X_test.reshape(-1,1)"
   ]
  },
  {
   "cell_type": "markdown",
   "id": "western-wilderness",
   "metadata": {},
   "source": [
    "### <font color=blue> 4. Training the Model </font>"
   ]
  },
  {
   "cell_type": "markdown",
   "id": "tamil-slave",
   "metadata": {},
   "source": [
    "**We split our dataset into training and testing data, now going to train the model.**"
   ]
  },
  {
   "cell_type": "code",
   "execution_count": 16,
   "id": "annoying-leone",
   "metadata": {},
   "outputs": [],
   "source": [
    "### Importing Linear Regression Libraries\n",
    "\n",
    "from sklearn.linear_model import LinearRegression"
   ]
  },
  {
   "cell_type": "code",
   "execution_count": 17,
   "id": "greek-suggestion",
   "metadata": {},
   "outputs": [
    {
     "data": {
      "text/plain": [
       "LinearRegression()"
      ]
     },
     "execution_count": 17,
     "metadata": {},
     "output_type": "execute_result"
    }
   ],
   "source": [
    "# Representing LinearRegression as lm(Creating LinearRegression Object)\n",
    "lm = LinearRegression()\n",
    "\n",
    "# Fit the model using lm.fit()\n",
    "lm.fit(X_train, y_train)"
   ]
  },
  {
   "cell_type": "code",
   "execution_count": 18,
   "id": "contrary-profile",
   "metadata": {},
   "outputs": [
    {
     "name": "stdout",
     "output_type": "stream",
     "text": [
      "Training Complete!!\n",
      "Trained Paramters..\n",
      "coefficient of determination 0.9570735354094693\n",
      "Intercept: 1.495142109236383\n",
      "Slope: [9.87171443]\n"
     ]
    }
   ],
   "source": [
    "### Getting intercept and coeffecients\n",
    "\n",
    "\n",
    "print('Training Complete!!')\n",
    "print('Trained Paramters..')\n",
    "r_sq = lm.score(X_train,y_train)\n",
    "print('coefficient of determination', r_sq)\n",
    "print('Intercept:',lm.intercept_)\n",
    "print('Slope:',lm.coef_)"
   ]
  },
  {
   "cell_type": "markdown",
   "id": "aggressive-alexander",
   "metadata": {},
   "source": [
    "**The following Linear Equation we get from the above analysis-**\n",
    "   - <font color=red> Scores = 1.495 + 9.871 * hours </font>"
   ]
  },
  {
   "cell_type": "code",
   "execution_count": 19,
   "id": "fifth-league",
   "metadata": {
    "scrolled": true
   },
   "outputs": [
    {
     "data": {
      "image/png": "[encoded data removed]",
      "text/plain": [
       "<Figure size 432x288 with 1 Axes>"
      ]
     },
     "metadata": {
      "needs_background": "light"
     },
     "output_type": "display_data"
    }
   ],
   "source": [
    "### Plotting the regression line\n",
    "\n",
    "slope = lm.coef_\n",
    "intercept = lm.intercept_\n",
    "\n",
    "reg = slope*X_train + intercept\n",
    "\n",
    "plt.scatter(X_train,y_train)\n",
    "plt.title('Plot on Train Dataset')\n",
    "plt.xlabel('Number of study hours')\n",
    "plt.ylabel('Percentage')\n",
    "plt.legend(['Scores'])\n",
    "plt.plot(X_train,reg, 'r')\n",
    "plt.show()"
   ]
  },
  {
   "cell_type": "markdown",
   "id": "focused-charger",
   "metadata": {},
   "source": [
    "**Now we trained our model, now its time to make prediction**"
   ]
  },
  {
   "cell_type": "markdown",
   "id": "imperial-ethics",
   "metadata": {},
   "source": [
    "### <font color=blue> 5. Prediction and Evaluation on Test Dataset </font>"
   ]
  },
  {
   "cell_type": "code",
   "execution_count": 20,
   "id": "mechanical-overhead",
   "metadata": {},
   "outputs": [
    {
     "data": {
      "text/html": [
       "<div>\n",
       "<style scoped>\n",
       "    .dataframe tbody tr th:only-of-type {\n",
       "        vertical-align: middle;\n",
       "    }\n",
       "\n",
       "    .dataframe tbody tr th {\n",
       "        vertical-align: top;\n",
       "    }\n",
       "\n",
       "    .dataframe thead th {\n",
       "        text-align: right;\n",
       "    }\n",
       "</style>\n",
       "<table border=\"1\" class=\"dataframe\">\n",
       "  <thead>\n",
       "    <tr style=\"text-align: right;\">\n",
       "      <th></th>\n",
       "      <th>y_Actual</th>\n",
       "      <th>y_predicted</th>\n",
       "    </tr>\n",
       "  </thead>\n",
       "  <tbody>\n",
       "    <tr>\n",
       "      <th>0</th>\n",
       "      <td>25</td>\n",
       "      <td>28.148771</td>\n",
       "    </tr>\n",
       "    <tr>\n",
       "      <th>1</th>\n",
       "      <td>35</td>\n",
       "      <td>39.007657</td>\n",
       "    </tr>\n",
       "    <tr>\n",
       "      <th>2</th>\n",
       "      <td>42</td>\n",
       "      <td>34.071800</td>\n",
       "    </tr>\n",
       "    <tr>\n",
       "      <th>3</th>\n",
       "      <td>62</td>\n",
       "      <td>59.738257</td>\n",
       "    </tr>\n",
       "    <tr>\n",
       "      <th>4</th>\n",
       "      <td>20</td>\n",
       "      <td>16.302714</td>\n",
       "    </tr>\n",
       "    <tr>\n",
       "      <th>5</th>\n",
       "      <td>69</td>\n",
       "      <td>74.545829</td>\n",
       "    </tr>\n",
       "    <tr>\n",
       "      <th>6</th>\n",
       "      <td>76</td>\n",
       "      <td>69.609972</td>\n",
       "    </tr>\n",
       "    <tr>\n",
       "      <th>7</th>\n",
       "      <td>54</td>\n",
       "      <td>48.879371</td>\n",
       "    </tr>\n",
       "  </tbody>\n",
       "</table>\n",
       "</div>"
      ],
      "text/plain": [
       "   y_Actual  y_predicted\n",
       "0        25    28.148771\n",
       "1        35    39.007657\n",
       "2        42    34.071800\n",
       "3        62    59.738257\n",
       "4        20    16.302714\n",
       "5        69    74.545829\n",
       "6        76    69.609972\n",
       "7        54    48.879371"
      ]
     },
     "execution_count": 20,
     "metadata": {},
     "output_type": "execute_result"
    }
   ],
   "source": [
    "### Comparing the actual and predicted values for the test dataset\n",
    "\n",
    "y_predicted = lm.predict(X_test)\n",
    "df = pd.DataFrame({'y_Actual':y_test, 'y_predicted': y_predicted})\n",
    "df"
   ]
  },
  {
   "cell_type": "markdown",
   "id": "finished-tonight",
   "metadata": {},
   "source": [
    "#### <font color=blue> Evaluating the Model </font>"
   ]
  },
  {
   "cell_type": "code",
   "execution_count": 21,
   "id": "representative-dispatch",
   "metadata": {},
   "outputs": [
    {
     "name": "stdout",
     "output_type": "stream",
     "text": [
      "Mean Squared Error : 25.678419573283865\n",
      "Mean Absolute Error : 4.762517892332275\n"
     ]
    }
   ],
   "source": [
    "from sklearn import metrics\n",
    "\n",
    "print('Mean Squared Error :', metrics.mean_squared_error(y_test,y_predicted))\n",
    "print('Mean Absolute Error :', metrics.mean_absolute_error(y_test,y_predicted))"
   ]
  },
  {
   "cell_type": "code",
   "execution_count": 22,
   "id": "supreme-victorian",
   "metadata": {
    "scrolled": true
   },
   "outputs": [
    {
     "name": "stdout",
     "output_type": "stream",
     "text": [
      "The R^2 value for training dataset : 0.9570735354094693\n",
      "The R^2 value for test dataset : 0.9309458862687437\n",
      "it's perfect !!!\n"
     ]
    }
   ],
   "source": [
    "print('The R^2 value for training dataset :', lm.score(X_train,y_train))\n",
    "print('The R^2 value for test dataset :', lm.score(X_test,y_test))\n",
    "print(\"it's perfect !!!\")"
   ]
  },
  {
   "cell_type": "code",
   "execution_count": 23,
   "id": "average-agent",
   "metadata": {
    "scrolled": true
   },
   "outputs": [
    {
     "data": {
      "image/png": "[encoded data removed]",
      "text/plain": [
       "<Figure size 432x288 with 1 Axes>"
      ]
     },
     "metadata": {
      "needs_background": "light"
     },
     "output_type": "display_data"
    }
   ],
   "source": [
    "reg = slope*X_test + intercept\n",
    "\n",
    "plt.scatter(X_test,y_test)\n",
    "plt.title('Test Data Plot')\n",
    "plt.xlabel('Number of study hours')\n",
    "plt.ylabel('Percentage')\n",
    "plt.legend(['Scores'])\n",
    "plt.plot(X_test,reg, 'r')\n",
    "plt.show()"
   ]
  },
  {
   "cell_type": "markdown",
   "id": "conservative-bookmark",
   "metadata": {},
   "source": [
    "### WHAT WILL BE THE SCORE IF A STUDENT STUDIES FOR 9.25 HOURS/DAY ??"
   ]
  },
  {
   "cell_type": "code",
   "execution_count": 24,
   "id": "catholic-threat",
   "metadata": {},
   "outputs": [
    {
     "name": "stdout",
     "output_type": "stream",
     "text": [
      "For 9.25 hours of study per day, this model predicts that the student will score 92.80850057353504\n"
     ]
    }
   ],
   "source": [
    "hour = 9.25\n",
    "my_pred = lm.predict([[hour]])\n",
    "print('For 9.25 hours of study per day, this model predicts that the student will score', my_pred[0])"
   ]
  },
  {
   "cell_type": "markdown",
   "id": "minimal-sussex",
   "metadata": {},
   "source": [
    "#### Evaluating score with the help of linear equation :"
   ]
  },
  {
   "cell_type": "code",
   "execution_count": 25,
   "id": "accepting-shuttle",
   "metadata": {},
   "outputs": [
    {
     "data": {
      "text/plain": [
       "92.80175000000001"
      ]
     },
     "execution_count": 25,
     "metadata": {},
     "output_type": "execute_result"
    }
   ],
   "source": [
    "hours = 9.25\n",
    "Scores = 1.495 + 9.871 * hours\n",
    "Scores"
   ]
  },
  {
   "cell_type": "code",
   "execution_count": 26,
   "id": "geographic-norwegian",
   "metadata": {},
   "outputs": [],
   "source": [
    "import jovian"
   ]
  },
  {
   "cell_type": "code",
   "execution_count": 27,
   "id": "exclusive-peeing",
   "metadata": {},
   "outputs": [],
   "source": [
    "project_name = 'Students_Score Prediction'"
   ]
  },
  {
   "cell_type": "code",
   "execution_count": null,
   "id": "stretch-diabetes",
   "metadata": {},
   "outputs": [
    {
     "data": {
      "application/javascript": [
       "window.require && require([\"base/js/namespace\"],function(Jupyter){Jupyter.notebook.save_checkpoint()})"
      ],
      "text/plain": [
       "<IPython.core.display.Javascript object>"
      ]
     },
     "metadata": {},
     "output_type": "display_data"
    },
    {
     "name": "stdout",
     "output_type": "stream",
     "text": [
      "[jovian] Attempting to save notebook..\r\n"
     ]
    }
   ],
   "source": [
    "jovian.commit(project=project_name, environment=None)"
   ]
  },
  {
   "cell_type": "code",
   "execution_count": null,
   "id": "changing-geometry",
   "metadata": {},
   "outputs": [],
   "source": []
  }
 ],
 "metadata": {
  "kernelspec": {
   "display_name": "Python 3",
   "language": "python",
   "name": "python3"
  },
  "language_info": {
   "codemirror_mode": {
    "name": "ipython",
    "version": 3
   },
   "file_extension": ".py",
   "mimetype": "text/x-python",
   "name": "python",
   "nbconvert_exporter": "python",
   "pygments_lexer": "ipython3",
   "version": "3.8.5"
  }
 },
 "nbformat": 4,
 "nbformat_minor": 5
}
